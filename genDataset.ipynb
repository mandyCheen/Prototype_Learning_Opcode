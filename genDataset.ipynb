{
 "cells": [
  {
   "cell_type": "code",
   "execution_count": 1,
   "metadata": {},
   "outputs": [],
   "source": [
    "import os\n",
    "import pandas as pd\n",
    "\n",
    "DATASET_PATH = \"/home/mandy900619/data/Malware202403_info.csv\"\n",
    "OPCODE_PATH = \"./data_5_9_4_text/\"\n",
    "OUTPUT_PATH = \"./dataset/malware_diec_crossArch_opcode_dataset.csv\"\n",
    "# dataset = pd.read_csv(DATASET_PATH)\n",
    "# dataset.head()\n",
    "                "
   ]
  },
  {
   "cell_type": "code",
   "execution_count": 2,
   "metadata": {},
   "outputs": [
    {
     "name": "stdout",
     "output_type": "stream",
     "text": [
      "                                            file_name  \\\n",
      "0   b1dbadd223d39400f26ffefce528bc6042aea3618df466...   \n",
      "0   aef494418458ee410ebf86a55165d536ffe89835892a0f...   \n",
      "0   abfc98963dcd309524464d4a45101ab0840cf7c9f7fa16...   \n",
      "0   3076030d35f1851f4fbc6ba3dd23351f8880cff448ceae...   \n",
      "0   15b1adf6757cd63c19b858c3d30de0eee8700035fe5ef5...   \n",
      "..                                                ...   \n",
      "0   8ce445b931b3975728750e618f69b32448954a246c375c...   \n",
      "0   b50e4445d21e2907cb869000e6fc48498037211f170f9a...   \n",
      "0   e07d8bceb447fb5bbbea5af35d5165f350c1463b68d08e...   \n",
      "0   e2423e93b84284890a27e3796491049a22f6496b3830e2...   \n",
      "0   6a3288b1d326290778544769ea7c1ed80af763ea47fee5...   \n",
      "\n",
      "                              CPU   family  \n",
      "0   Advanced Micro Devices X86-64  fakeapp  \n",
      "0   Advanced Micro Devices X86-64  fakeapp  \n",
      "0   Advanced Micro Devices X86-64  fakeapp  \n",
      "0   Advanced Micro Devices X86-64  fakeapp  \n",
      "0   Advanced Micro Devices X86-64  fakeapp  \n",
      "..                            ...      ...  \n",
      "0                         PowerPC  tsunami  \n",
      "0                         PowerPC  tsunami  \n",
      "0                         PowerPC  specter  \n",
      "0                         PowerPC  ngioweb  \n",
      "0                       PowerPC64  ngioweb  \n",
      "\n",
      "[5229 rows x 3 columns]\n"
     ]
    }
   ],
   "source": [
    "output = pd.DataFrame(columns=[\"file_name\", \"CPU\", \"family\"])\n",
    "\n",
    "for cpuFolder in os.listdir(OPCODE_PATH):\n",
    "    cpuPath = OPCODE_PATH + cpuFolder + \"/\"\n",
    "    for familyFolder in os.listdir(cpuPath):\n",
    "        familyPath = cpuPath + familyFolder + \"/\"\n",
    "        for opcodeFile in os.listdir(familyPath):\n",
    "            opcodeFilePath = familyPath + opcodeFile\n",
    "            file_name = opcodeFile.split(\".\")[0]\n",
    "            output = pd.concat([output, pd.DataFrame([[file_name, cpuFolder, familyFolder]], columns=[\"file_name\", \"CPU\", \"family\"])])\n",
    "                \n",
    "print(output)      "
   ]
  },
  {
   "cell_type": "code",
   "execution_count": 3,
   "metadata": {},
   "outputs": [
    {
     "name": "stdout",
     "output_type": "stream",
     "text": [
      "         CPU   family  counts\n",
      "26   AArch64   hiddad      20\n",
      "28   AArch64    joker      20\n",
      "38   AArch64    mirai      20\n",
      "70       ARM   asacub      20\n",
      "73       ARM     boqx      20\n",
      "..       ...      ...     ...\n",
      "533  PowerPC    mirai      20\n",
      "541    Sparc   gafgyt      20\n",
      "545    Sparc    mirai      20\n",
      "549    Sparc    sunos      20\n",
      "550    Sparc  tsunami      20\n",
      "\n",
      "[140 rows x 3 columns]\n"
     ]
    }
   ],
   "source": [
    "output_cpu_family_counts = output.groupby([\"CPU\", \"family\"]).size().reset_index(name='counts')\n",
    "output_cpu_family_counts = output_cpu_family_counts[output_cpu_family_counts[\"counts\"] >= 20]\n",
    "print(output_cpu_family_counts)\n",
    "outputDataset = pd.DataFrame(columns=[\"file_name\", \"CPU\", \"family\"])\n",
    "\n",
    "for index, row in output_cpu_family_counts.iterrows():\n",
    "    cpu = row[\"CPU\"]\n",
    "    family = row[\"family\"]\n",
    "    selected = output[(output[\"CPU\"] == cpu) & (output[\"family\"] == family)].sample(n=20)\n",
    "    outputDataset = pd.concat([outputDataset, selected])\n",
    "\n"
   ]
  },
  {
   "cell_type": "code",
   "execution_count": 4,
   "metadata": {},
   "outputs": [
    {
     "name": "stdout",
     "output_type": "stream",
     "text": [
      "CPU\n",
      "Advanced Micro Devices X86-64    1260\n",
      "ARM                               580\n",
      "Intel 80386                       520\n",
      "MIPS R3000                        200\n",
      "Sparc                              80\n",
      "AArch64                            60\n",
      "MC68000                            60\n",
      "PowerPC                            40\n",
      "Name: count, dtype: int64\n"
     ]
    }
   ],
   "source": [
    "print(outputDataset['CPU'].value_counts())"
   ]
  },
  {
   "cell_type": "code",
   "execution_count": 5,
   "metadata": {},
   "outputs": [],
   "source": [
    "outputDataset.to_csv(OUTPUT_PATH, index=False)"
   ]
  },
  {
   "cell_type": "code",
   "execution_count": 6,
   "metadata": {},
   "outputs": [
    {
     "data": {
      "text/html": [
       "<div>\n",
       "<style scoped>\n",
       "    .dataframe tbody tr th:only-of-type {\n",
       "        vertical-align: middle;\n",
       "    }\n",
       "\n",
       "    .dataframe tbody tr th {\n",
       "        vertical-align: top;\n",
       "    }\n",
       "\n",
       "    .dataframe thead th {\n",
       "        text-align: right;\n",
       "    }\n",
       "</style>\n",
       "<table border=\"1\" class=\"dataframe\">\n",
       "  <thead>\n",
       "    <tr style=\"text-align: right;\">\n",
       "      <th></th>\n",
       "      <th>file_name</th>\n",
       "      <th>CPU</th>\n",
       "      <th>family</th>\n",
       "    </tr>\n",
       "  </thead>\n",
       "  <tbody>\n",
       "    <tr>\n",
       "      <th>0</th>\n",
       "      <td>f283884680146ba1bd437bd7b361b586ddc0a491d0a997...</td>\n",
       "      <td>AArch64</td>\n",
       "      <td>hiddad</td>\n",
       "    </tr>\n",
       "    <tr>\n",
       "      <th>0</th>\n",
       "      <td>4250a22d4e8cf3e81926d678f2f20ef8a655c481c46188...</td>\n",
       "      <td>AArch64</td>\n",
       "      <td>hiddad</td>\n",
       "    </tr>\n",
       "    <tr>\n",
       "      <th>0</th>\n",
       "      <td>b7b0100ebe973d7a0e4cc5ef67a4e2ad4eb399e34e8ed0...</td>\n",
       "      <td>AArch64</td>\n",
       "      <td>hiddad</td>\n",
       "    </tr>\n",
       "    <tr>\n",
       "      <th>0</th>\n",
       "      <td>bc5cdcf975a91b96764d4cbe8d45d362091d1e7a3a1cca...</td>\n",
       "      <td>AArch64</td>\n",
       "      <td>hiddad</td>\n",
       "    </tr>\n",
       "    <tr>\n",
       "      <th>0</th>\n",
       "      <td>26cadd98d7db8ae68ad08cd742ad069a2568fd96f94731...</td>\n",
       "      <td>AArch64</td>\n",
       "      <td>hiddad</td>\n",
       "    </tr>\n",
       "    <tr>\n",
       "      <th>...</th>\n",
       "      <td>...</td>\n",
       "      <td>...</td>\n",
       "      <td>...</td>\n",
       "    </tr>\n",
       "    <tr>\n",
       "      <th>0</th>\n",
       "      <td>0a5b14dbd22c77370ad8133682662009860169364e6a35...</td>\n",
       "      <td>Sparc</td>\n",
       "      <td>tsunami</td>\n",
       "    </tr>\n",
       "    <tr>\n",
       "      <th>0</th>\n",
       "      <td>7e1c6d2d7ca066210195bd5973bca6c4462843f4899d3b...</td>\n",
       "      <td>Sparc</td>\n",
       "      <td>tsunami</td>\n",
       "    </tr>\n",
       "    <tr>\n",
       "      <th>0</th>\n",
       "      <td>b7fbb2f0ac5b6db1486b50ab3f89c9efb2f467aa5c368e...</td>\n",
       "      <td>Sparc</td>\n",
       "      <td>tsunami</td>\n",
       "    </tr>\n",
       "    <tr>\n",
       "      <th>0</th>\n",
       "      <td>33912291518d6af63bbee7a62b89c28820e0a653788c66...</td>\n",
       "      <td>Sparc</td>\n",
       "      <td>tsunami</td>\n",
       "    </tr>\n",
       "    <tr>\n",
       "      <th>0</th>\n",
       "      <td>5d41942c7231d6b99f4707084bfca33181492e53e38483...</td>\n",
       "      <td>Sparc</td>\n",
       "      <td>tsunami</td>\n",
       "    </tr>\n",
       "  </tbody>\n",
       "</table>\n",
       "<p>2800 rows × 3 columns</p>\n",
       "</div>"
      ],
      "text/plain": [
       "                                            file_name      CPU   family\n",
       "0   f283884680146ba1bd437bd7b361b586ddc0a491d0a997...  AArch64   hiddad\n",
       "0   4250a22d4e8cf3e81926d678f2f20ef8a655c481c46188...  AArch64   hiddad\n",
       "0   b7b0100ebe973d7a0e4cc5ef67a4e2ad4eb399e34e8ed0...  AArch64   hiddad\n",
       "0   bc5cdcf975a91b96764d4cbe8d45d362091d1e7a3a1cca...  AArch64   hiddad\n",
       "0   26cadd98d7db8ae68ad08cd742ad069a2568fd96f94731...  AArch64   hiddad\n",
       "..                                                ...      ...      ...\n",
       "0   0a5b14dbd22c77370ad8133682662009860169364e6a35...    Sparc  tsunami\n",
       "0   7e1c6d2d7ca066210195bd5973bca6c4462843f4899d3b...    Sparc  tsunami\n",
       "0   b7fbb2f0ac5b6db1486b50ab3f89c9efb2f467aa5c368e...    Sparc  tsunami\n",
       "0   33912291518d6af63bbee7a62b89c28820e0a653788c66...    Sparc  tsunami\n",
       "0   5d41942c7231d6b99f4707084bfca33181492e53e38483...    Sparc  tsunami\n",
       "\n",
       "[2800 rows x 3 columns]"
      ]
     },
     "execution_count": 6,
     "metadata": {},
     "output_type": "execute_result"
    }
   ],
   "source": [
    "outputDataset"
   ]
  },
  {
   "cell_type": "code",
   "execution_count": 7,
   "metadata": {},
   "outputs": [
    {
     "name": "stdout",
     "output_type": "stream",
     "text": [
      "family\n",
      "adore        20\n",
      "aenjaris     20\n",
      "blueshell    20\n",
      "bpfdoor      20\n",
      "camelot      20\n",
      "             ..\n",
      "wellmess     20\n",
      "winexe       20\n",
      "winnti       20\n",
      "xmrig        20\n",
      "xmrminer     20\n",
      "Name: count, Length: 63, dtype: int64\n"
     ]
    }
   ],
   "source": [
    "x86_64 = outputDataset[outputDataset[\"CPU\"] == \"Advanced Micro Devices X86-64\"]\n",
    "print(x86_64['family'].value_counts())"
   ]
  },
  {
   "cell_type": "code",
   "execution_count": 8,
   "metadata": {},
   "outputs": [],
   "source": [
    "x86_64.to_csv(\"./dataset/malware_diec_x86_64_opcode_dataset.csv\", index=False)"
   ]
  }
 ],
 "metadata": {
  "kernelspec": {
   "display_name": "byteSequence",
   "language": "python",
   "name": "python3"
  },
  "language_info": {
   "codemirror_mode": {
    "name": "ipython",
    "version": 3
   },
   "file_extension": ".py",
   "mimetype": "text/x-python",
   "name": "python",
   "nbconvert_exporter": "python",
   "pygments_lexer": "ipython3",
   "version": "3.11.9"
  }
 },
 "nbformat": 4,
 "nbformat_minor": 2
}
