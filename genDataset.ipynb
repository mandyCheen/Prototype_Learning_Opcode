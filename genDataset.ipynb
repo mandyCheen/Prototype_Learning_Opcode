{
 "cells": [
  {
   "cell_type": "code",
   "execution_count": 1,
   "metadata": {},
   "outputs": [],
   "source": [
    "import os\n",
    "import pandas as pd\n",
    "\n",
    "DATASET_PATH = \"/home/mandy900619/data/Malware202403_info.csv\"\n",
    "OPCODE_PATH = \"./data_5_9_4/\"\n",
    "OUTPUT_PATH = \"./dataset/malware_diec_crossArch_opcode_dataset.csv\"\n",
    "# dataset = pd.read_csv(DATASET_PATH)\n",
    "# dataset.head()\n",
    "                "
   ]
  },
  {
   "cell_type": "code",
   "execution_count": 2,
   "metadata": {},
   "outputs": [
    {
     "name": "stdout",
     "output_type": "stream",
     "text": [
      "                                            file_name  \\\n",
      "0   b1dbadd223d39400f26ffefce528bc6042aea3618df466...   \n",
      "0   aef494418458ee410ebf86a55165d536ffe89835892a0f...   \n",
      "0   abfc98963dcd309524464d4a45101ab0840cf7c9f7fa16...   \n",
      "0   3076030d35f1851f4fbc6ba3dd23351f8880cff448ceae...   \n",
      "0   15b1adf6757cd63c19b858c3d30de0eee8700035fe5ef5...   \n",
      "..                                                ...   \n",
      "0   2e240df47587018f62bbb59e04d20930babcf024af52ce...   \n",
      "0   4bfe8189e82350a9a6c0ab1fb6ef27fdad4510e074029a...   \n",
      "0   8ce445b931b3975728750e618f69b32448954a246c375c...   \n",
      "0   b50e4445d21e2907cb869000e6fc48498037211f170f9a...   \n",
      "0   e07d8bceb447fb5bbbea5af35d5165f350c1463b68d08e...   \n",
      "\n",
      "                              CPU   family  \n",
      "0   Advanced Micro Devices X86-64  fakeapp  \n",
      "0   Advanced Micro Devices X86-64  fakeapp  \n",
      "0   Advanced Micro Devices X86-64  fakeapp  \n",
      "0   Advanced Micro Devices X86-64  fakeapp  \n",
      "0   Advanced Micro Devices X86-64  fakeapp  \n",
      "..                            ...      ...  \n",
      "0                         PowerPC   gafgyt  \n",
      "0                         PowerPC  tsunami  \n",
      "0                         PowerPC  tsunami  \n",
      "0                         PowerPC  tsunami  \n",
      "0                         PowerPC  specter  \n",
      "\n",
      "[5511 rows x 3 columns]\n"
     ]
    }
   ],
   "source": [
    "output = pd.DataFrame(columns=[\"file_name\", \"CPU\", \"family\"])\n",
    "\n",
    "for cpuFolder in os.listdir(OPCODE_PATH):\n",
    "    cpuPath = OPCODE_PATH + cpuFolder + \"/\"\n",
    "    for familyFolder in os.listdir(cpuPath):\n",
    "        familyPath = cpuPath + familyFolder + \"/\"\n",
    "        for opcodeFile in os.listdir(familyPath):\n",
    "            opcodeFilePath = familyPath + opcodeFile\n",
    "            file_name = opcodeFile.split(\".\")[0]\n",
    "            output = pd.concat([output, pd.DataFrame([[file_name, cpuFolder, familyFolder]], columns=[\"file_name\", \"CPU\", \"family\"])])\n",
    "                \n",
    "print(output)      "
   ]
  },
  {
   "cell_type": "code",
   "execution_count": 3,
   "metadata": {},
   "outputs": [
    {
     "name": "stdout",
     "output_type": "stream",
     "text": [
      "         CPU    family  counts\n",
      "11   AArch64  fakebank      20\n",
      "12   AArch64   fakecop      20\n",
      "14   AArch64   fiforeg      20\n",
      "19   AArch64    hiddad      20\n",
      "21   AArch64     joker      20\n",
      "..       ...       ...     ...\n",
      "517  PowerPC     mirai      20\n",
      "521    Sparc    gafgyt      20\n",
      "524    Sparc     mirai      20\n",
      "527    Sparc     sunos      20\n",
      "528    Sparc   tsunami      20\n",
      "\n",
      "[175 rows x 3 columns]\n"
     ]
    }
   ],
   "source": [
    "output_cpu_family_counts = output.groupby([\"CPU\", \"family\"]).size().reset_index(name='counts')\n",
    "output_cpu_family_counts = output_cpu_family_counts[output_cpu_family_counts[\"counts\"] >= 20]\n",
    "print(output_cpu_family_counts)\n",
    "outputDataset = pd.DataFrame(columns=[\"file_name\", \"CPU\", \"family\"])\n",
    "\n",
    "for index, row in output_cpu_family_counts.iterrows():\n",
    "    cpu = row[\"CPU\"]\n",
    "    family = row[\"family\"]\n",
    "    selected = output[(output[\"CPU\"] == cpu) & (output[\"family\"] == family)].sample(n=20)\n",
    "    outputDataset = pd.concat([outputDataset, selected])\n",
    "\n"
   ]
  },
  {
   "cell_type": "code",
   "execution_count": 5,
   "metadata": {},
   "outputs": [
    {
     "name": "stdout",
     "output_type": "stream",
     "text": [
      "CPU\n",
      "Advanced Micro Devices X86-64    1420\n",
      "ARM                               680\n",
      "Intel 80386                       660\n",
      "MIPS R3000                        340\n",
      "AArch64                           220\n",
      "Sparc                              80\n",
      "MC68000                            60\n",
      "PowerPC                            40\n",
      "Name: count, dtype: int64\n"
     ]
    }
   ],
   "source": [
    "print(outputDataset['CPU'].value_counts())"
   ]
  },
  {
   "cell_type": "code",
   "execution_count": 6,
   "metadata": {},
   "outputs": [],
   "source": [
    "outputDataset.to_csv(OUTPUT_PATH, index=False)"
   ]
  },
  {
   "cell_type": "code",
   "execution_count": 7,
   "metadata": {},
   "outputs": [
    {
     "data": {
      "text/html": [
       "<div>\n",
       "<style scoped>\n",
       "    .dataframe tbody tr th:only-of-type {\n",
       "        vertical-align: middle;\n",
       "    }\n",
       "\n",
       "    .dataframe tbody tr th {\n",
       "        vertical-align: top;\n",
       "    }\n",
       "\n",
       "    .dataframe thead th {\n",
       "        text-align: right;\n",
       "    }\n",
       "</style>\n",
       "<table border=\"1\" class=\"dataframe\">\n",
       "  <thead>\n",
       "    <tr style=\"text-align: right;\">\n",
       "      <th></th>\n",
       "      <th>file_name</th>\n",
       "      <th>CPU</th>\n",
       "      <th>family</th>\n",
       "    </tr>\n",
       "  </thead>\n",
       "  <tbody>\n",
       "    <tr>\n",
       "      <th>0</th>\n",
       "      <td>94ceb108fefaf20871401290e32cfd9fb0c89c99e55563...</td>\n",
       "      <td>AArch64</td>\n",
       "      <td>fakebank</td>\n",
       "    </tr>\n",
       "    <tr>\n",
       "      <th>0</th>\n",
       "      <td>1683ae46bc5c40735814d2fbf63e0f10b9ded8c75bcf56...</td>\n",
       "      <td>AArch64</td>\n",
       "      <td>fakebank</td>\n",
       "    </tr>\n",
       "    <tr>\n",
       "      <th>0</th>\n",
       "      <td>04be23571b9289c6aa4f9cc65920b032b59cf1c4359195...</td>\n",
       "      <td>AArch64</td>\n",
       "      <td>fakebank</td>\n",
       "    </tr>\n",
       "    <tr>\n",
       "      <th>0</th>\n",
       "      <td>49242754d8b29d8ac33f0e37ff6f8943dac4179fe19b95...</td>\n",
       "      <td>AArch64</td>\n",
       "      <td>fakebank</td>\n",
       "    </tr>\n",
       "    <tr>\n",
       "      <th>0</th>\n",
       "      <td>a1a880e4a55def1d7da962a33dd1156f19d32bfbed0be4...</td>\n",
       "      <td>AArch64</td>\n",
       "      <td>fakebank</td>\n",
       "    </tr>\n",
       "    <tr>\n",
       "      <th>...</th>\n",
       "      <td>...</td>\n",
       "      <td>...</td>\n",
       "      <td>...</td>\n",
       "    </tr>\n",
       "    <tr>\n",
       "      <th>0</th>\n",
       "      <td>12c80893f47d4585c657896cbb90d1a0678d2fad689a6d...</td>\n",
       "      <td>Sparc</td>\n",
       "      <td>tsunami</td>\n",
       "    </tr>\n",
       "    <tr>\n",
       "      <th>0</th>\n",
       "      <td>152d9411c83e1040cabde6dcf9db9148a288381445eb06...</td>\n",
       "      <td>Sparc</td>\n",
       "      <td>tsunami</td>\n",
       "    </tr>\n",
       "    <tr>\n",
       "      <th>0</th>\n",
       "      <td>c7edb0cba755dff2531eb1202503346a54c2e99a3fb177...</td>\n",
       "      <td>Sparc</td>\n",
       "      <td>tsunami</td>\n",
       "    </tr>\n",
       "    <tr>\n",
       "      <th>0</th>\n",
       "      <td>0a5b14dbd22c77370ad8133682662009860169364e6a35...</td>\n",
       "      <td>Sparc</td>\n",
       "      <td>tsunami</td>\n",
       "    </tr>\n",
       "    <tr>\n",
       "      <th>0</th>\n",
       "      <td>7a47e6569ca284265afdc9dad94b57b4a7acc7d4004eeb...</td>\n",
       "      <td>Sparc</td>\n",
       "      <td>tsunami</td>\n",
       "    </tr>\n",
       "  </tbody>\n",
       "</table>\n",
       "<p>3500 rows × 3 columns</p>\n",
       "</div>"
      ],
      "text/plain": [
       "                                            file_name      CPU    family\n",
       "0   94ceb108fefaf20871401290e32cfd9fb0c89c99e55563...  AArch64  fakebank\n",
       "0   1683ae46bc5c40735814d2fbf63e0f10b9ded8c75bcf56...  AArch64  fakebank\n",
       "0   04be23571b9289c6aa4f9cc65920b032b59cf1c4359195...  AArch64  fakebank\n",
       "0   49242754d8b29d8ac33f0e37ff6f8943dac4179fe19b95...  AArch64  fakebank\n",
       "0   a1a880e4a55def1d7da962a33dd1156f19d32bfbed0be4...  AArch64  fakebank\n",
       "..                                                ...      ...       ...\n",
       "0   12c80893f47d4585c657896cbb90d1a0678d2fad689a6d...    Sparc   tsunami\n",
       "0   152d9411c83e1040cabde6dcf9db9148a288381445eb06...    Sparc   tsunami\n",
       "0   c7edb0cba755dff2531eb1202503346a54c2e99a3fb177...    Sparc   tsunami\n",
       "0   0a5b14dbd22c77370ad8133682662009860169364e6a35...    Sparc   tsunami\n",
       "0   7a47e6569ca284265afdc9dad94b57b4a7acc7d4004eeb...    Sparc   tsunami\n",
       "\n",
       "[3500 rows x 3 columns]"
      ]
     },
     "execution_count": 7,
     "metadata": {},
     "output_type": "execute_result"
    }
   ],
   "source": [
    "outputDataset"
   ]
  },
  {
   "cell_type": "code",
   "execution_count": 10,
   "metadata": {},
   "outputs": [
    {
     "name": "stdout",
     "output_type": "stream",
     "text": [
      "family\n",
      "xmrminer       20\n",
      "adore          20\n",
      "aenjaris       20\n",
      "blackcat       20\n",
      "blueshell      20\n",
      "               ..\n",
      "ddosia         20\n",
      "diamorphine    20\n",
      "dirtycow       20\n",
      "dnsamp         20\n",
      "dofloo         20\n",
      "Name: count, Length: 71, dtype: int64\n"
     ]
    }
   ],
   "source": [
    "x86_64 = outputDataset[outputDataset[\"CPU\"] == \"Advanced Micro Devices X86-64\"]\n",
    "print(x86_64['family'].value_counts())"
   ]
  },
  {
   "cell_type": "code",
   "execution_count": 11,
   "metadata": {},
   "outputs": [],
   "source": [
    "x86_64.to_csv(\"./dataset/malware_diec_x86_64_opcode_dataset.csv\", index=False)"
   ]
  }
 ],
 "metadata": {
  "kernelspec": {
   "display_name": "byteSequence",
   "language": "python",
   "name": "python3"
  },
  "language_info": {
   "codemirror_mode": {
    "name": "ipython",
    "version": 3
   },
   "file_extension": ".py",
   "mimetype": "text/x-python",
   "name": "python",
   "nbconvert_exporter": "python",
   "pygments_lexer": "ipython3",
   "version": "3.11.9"
  }
 },
 "nbformat": 4,
 "nbformat_minor": 2
}
