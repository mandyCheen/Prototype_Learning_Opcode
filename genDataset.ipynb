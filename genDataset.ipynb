{
 "cells": [
  {
   "cell_type": "code",
   "execution_count": 3,
   "metadata": {},
   "outputs": [],
   "source": [
    "import os\n",
    "import pandas as pd\n",
    "\n",
    "DATASET_PATH = \"/home/mandy900619/data/Malware202403_info.csv\"\n",
    "OPCODE_PATH = \"./data_5_9_4_exe/\"\n",
    "OUTPUT_PATH = \"./dataset/malware_diec_crossArch_opcode_dataset.csv\"\n",
    "# dataset = pd.read_csv(DATASET_PATH)\n",
    "# dataset.head()\n",
    "                "
   ]
  },
  {
   "cell_type": "code",
   "execution_count": 4,
   "metadata": {},
   "outputs": [
    {
     "name": "stdout",
     "output_type": "stream",
     "text": [
      "                                            file_name          CPU   family\n",
      "0   071945bfdf468b21b2b9bad0cf4915b8f0ac5d784edeec...  Intel 80386  xorddos\n",
      "0   a9ae61e08db99474f46c84cb3f1dcfb7cdb4e9f93c8457...  Intel 80386  xorddos\n",
      "0   953db36866e9969e911e15f5a89a3154ada73ea54fcd5c...  Intel 80386  xorddos\n",
      "0   40b01bdf1206c4ec08c07e788d0b42de956691a638f9b6...  Intel 80386  xorddos\n",
      "0   b2c8515b551ad755168a7b1bd149fb672e894404376f95...  Intel 80386  xorddos\n",
      "..                                                ...          ...      ...\n",
      "0   8ce445b931b3975728750e618f69b32448954a246c375c...      PowerPC  tsunami\n",
      "0   b50e4445d21e2907cb869000e6fc48498037211f170f9a...      PowerPC  tsunami\n",
      "0   e07d8bceb447fb5bbbea5af35d5165f350c1463b68d08e...      PowerPC  specter\n",
      "0   e2423e93b84284890a27e3796491049a22f6496b3830e2...      PowerPC  ngioweb\n",
      "0   6a3288b1d326290778544769ea7c1ed80af763ea47fee5...    PowerPC64  ngioweb\n",
      "\n",
      "[5298 rows x 3 columns]\n"
     ]
    }
   ],
   "source": [
    "output = pd.DataFrame(columns=[\"file_name\", \"CPU\", \"family\"])\n",
    "\n",
    "for cpuFolder in os.listdir(OPCODE_PATH):\n",
    "    cpuPath = OPCODE_PATH + cpuFolder + \"/\"\n",
    "    for familyFolder in os.listdir(cpuPath):\n",
    "        familyPath = cpuPath + familyFolder + \"/\"\n",
    "        for opcodeFile in os.listdir(familyPath):\n",
    "            opcodeFilePath = familyPath + opcodeFile\n",
    "            file_name = opcodeFile.split(\".\")[0]\n",
    "            output = pd.concat([output, pd.DataFrame([[file_name, cpuFolder, familyFolder]], columns=[\"file_name\", \"CPU\", \"family\"])])\n",
    "                \n",
    "print(output)      "
   ]
  },
  {
   "cell_type": "code",
   "execution_count": 5,
   "metadata": {},
   "outputs": [
    {
     "name": "stdout",
     "output_type": "stream",
     "text": [
      "         CPU   family  counts\n",
      "26   AArch64   hiddad      20\n",
      "28   AArch64    joker      20\n",
      "29   AArch64    kaiji      20\n",
      "38   AArch64    mirai      20\n",
      "70       ARM   asacub      20\n",
      "..       ...      ...     ...\n",
      "536  PowerPC    mirai      20\n",
      "544    Sparc   gafgyt      20\n",
      "548    Sparc    mirai      20\n",
      "552    Sparc    sunos      20\n",
      "553    Sparc  tsunami      20\n",
      "\n",
      "[145 rows x 3 columns]\n"
     ]
    }
   ],
   "source": [
    "output_cpu_family_counts = output.groupby([\"CPU\", \"family\"]).size().reset_index(name='counts')\n",
    "output_cpu_family_counts = output_cpu_family_counts[output_cpu_family_counts[\"counts\"] >= 20]\n",
    "print(output_cpu_family_counts)\n",
    "outputDataset = pd.DataFrame(columns=[\"file_name\", \"CPU\", \"family\"])\n",
    "\n",
    "for index, row in output_cpu_family_counts.iterrows():\n",
    "    cpu = row[\"CPU\"]\n",
    "    family = row[\"family\"]\n",
    "    selected = output[(output[\"CPU\"] == cpu) & (output[\"family\"] == family)].sample(n=20)\n",
    "    outputDataset = pd.concat([outputDataset, selected])\n",
    "\n"
   ]
  },
  {
   "cell_type": "code",
   "execution_count": 6,
   "metadata": {},
   "outputs": [
    {
     "name": "stdout",
     "output_type": "stream",
     "text": [
      "CPU\n",
      "Advanced Micro Devices X86-64    1300\n",
      "ARM                               580\n",
      "Intel 80386                       560\n",
      "MIPS R3000                        200\n",
      "AArch64                            80\n",
      "Sparc                              80\n",
      "MC68000                            60\n",
      "PowerPC                            40\n",
      "Name: count, dtype: int64\n"
     ]
    }
   ],
   "source": [
    "print(outputDataset['CPU'].value_counts())"
   ]
  },
  {
   "cell_type": "code",
   "execution_count": 7,
   "metadata": {},
   "outputs": [],
   "source": [
    "outputDataset.to_csv(OUTPUT_PATH, index=False)"
   ]
  },
  {
   "cell_type": "code",
   "execution_count": 8,
   "metadata": {},
   "outputs": [
    {
     "data": {
      "text/html": [
       "<div>\n",
       "<style scoped>\n",
       "    .dataframe tbody tr th:only-of-type {\n",
       "        vertical-align: middle;\n",
       "    }\n",
       "\n",
       "    .dataframe tbody tr th {\n",
       "        vertical-align: top;\n",
       "    }\n",
       "\n",
       "    .dataframe thead th {\n",
       "        text-align: right;\n",
       "    }\n",
       "</style>\n",
       "<table border=\"1\" class=\"dataframe\">\n",
       "  <thead>\n",
       "    <tr style=\"text-align: right;\">\n",
       "      <th></th>\n",
       "      <th>file_name</th>\n",
       "      <th>CPU</th>\n",
       "      <th>family</th>\n",
       "    </tr>\n",
       "  </thead>\n",
       "  <tbody>\n",
       "    <tr>\n",
       "      <th>0</th>\n",
       "      <td>a82914d7ca069f42f25e99ca9acb0e3e32e4b6d0cd2524...</td>\n",
       "      <td>AArch64</td>\n",
       "      <td>hiddad</td>\n",
       "    </tr>\n",
       "    <tr>\n",
       "      <th>0</th>\n",
       "      <td>7f03c2f4bfbffe62a19eee52004f49ff3a9b82a760dd4c...</td>\n",
       "      <td>AArch64</td>\n",
       "      <td>hiddad</td>\n",
       "    </tr>\n",
       "    <tr>\n",
       "      <th>0</th>\n",
       "      <td>f283884680146ba1bd437bd7b361b586ddc0a491d0a997...</td>\n",
       "      <td>AArch64</td>\n",
       "      <td>hiddad</td>\n",
       "    </tr>\n",
       "    <tr>\n",
       "      <th>0</th>\n",
       "      <td>d1b744be90ee08c89012cdbe606e816d5c67191b746e43...</td>\n",
       "      <td>AArch64</td>\n",
       "      <td>hiddad</td>\n",
       "    </tr>\n",
       "    <tr>\n",
       "      <th>0</th>\n",
       "      <td>f846702c207a90566582e6b0f3c27b688cd39bd3ff6460...</td>\n",
       "      <td>AArch64</td>\n",
       "      <td>hiddad</td>\n",
       "    </tr>\n",
       "    <tr>\n",
       "      <th>...</th>\n",
       "      <td>...</td>\n",
       "      <td>...</td>\n",
       "      <td>...</td>\n",
       "    </tr>\n",
       "    <tr>\n",
       "      <th>0</th>\n",
       "      <td>4ba6a6f0b51550e1a60d9d2cd879c1c562c976a32b0e54...</td>\n",
       "      <td>Sparc</td>\n",
       "      <td>tsunami</td>\n",
       "    </tr>\n",
       "    <tr>\n",
       "      <th>0</th>\n",
       "      <td>f91e9fe2771b63c624c4b25aa83a60149f4a338f53d605...</td>\n",
       "      <td>Sparc</td>\n",
       "      <td>tsunami</td>\n",
       "    </tr>\n",
       "    <tr>\n",
       "      <th>0</th>\n",
       "      <td>0a5b14dbd22c77370ad8133682662009860169364e6a35...</td>\n",
       "      <td>Sparc</td>\n",
       "      <td>tsunami</td>\n",
       "    </tr>\n",
       "    <tr>\n",
       "      <th>0</th>\n",
       "      <td>12c80893f47d4585c657896cbb90d1a0678d2fad689a6d...</td>\n",
       "      <td>Sparc</td>\n",
       "      <td>tsunami</td>\n",
       "    </tr>\n",
       "    <tr>\n",
       "      <th>0</th>\n",
       "      <td>b7fbb2f0ac5b6db1486b50ab3f89c9efb2f467aa5c368e...</td>\n",
       "      <td>Sparc</td>\n",
       "      <td>tsunami</td>\n",
       "    </tr>\n",
       "  </tbody>\n",
       "</table>\n",
       "<p>2900 rows × 3 columns</p>\n",
       "</div>"
      ],
      "text/plain": [
       "                                            file_name      CPU   family\n",
       "0   a82914d7ca069f42f25e99ca9acb0e3e32e4b6d0cd2524...  AArch64   hiddad\n",
       "0   7f03c2f4bfbffe62a19eee52004f49ff3a9b82a760dd4c...  AArch64   hiddad\n",
       "0   f283884680146ba1bd437bd7b361b586ddc0a491d0a997...  AArch64   hiddad\n",
       "0   d1b744be90ee08c89012cdbe606e816d5c67191b746e43...  AArch64   hiddad\n",
       "0   f846702c207a90566582e6b0f3c27b688cd39bd3ff6460...  AArch64   hiddad\n",
       "..                                                ...      ...      ...\n",
       "0   4ba6a6f0b51550e1a60d9d2cd879c1c562c976a32b0e54...    Sparc  tsunami\n",
       "0   f91e9fe2771b63c624c4b25aa83a60149f4a338f53d605...    Sparc  tsunami\n",
       "0   0a5b14dbd22c77370ad8133682662009860169364e6a35...    Sparc  tsunami\n",
       "0   12c80893f47d4585c657896cbb90d1a0678d2fad689a6d...    Sparc  tsunami\n",
       "0   b7fbb2f0ac5b6db1486b50ab3f89c9efb2f467aa5c368e...    Sparc  tsunami\n",
       "\n",
       "[2900 rows x 3 columns]"
      ]
     },
     "execution_count": 8,
     "metadata": {},
     "output_type": "execute_result"
    }
   ],
   "source": [
    "outputDataset"
   ]
  },
  {
   "cell_type": "code",
   "execution_count": 9,
   "metadata": {},
   "outputs": [
    {
     "name": "stdout",
     "output_type": "stream",
     "text": [
      "family\n",
      "xmrminer        20\n",
      "sagnt           20\n",
      "sickabs         20\n",
      "skidmap         20\n",
      "sliver          20\n",
      "                ..\n",
      "camelot         20\n",
      "chisel          20\n",
      "cleanlog        20\n",
      "cobaltstrike    20\n",
      "cryptonote      20\n",
      "Name: count, Length: 65, dtype: int64\n"
     ]
    }
   ],
   "source": [
    "x86_64 = outputDataset[outputDataset[\"CPU\"] == \"Advanced Micro Devices X86-64\"]\n",
    "print(x86_64['family'].value_counts())"
   ]
  },
  {
   "cell_type": "code",
   "execution_count": 10,
   "metadata": {},
   "outputs": [],
   "source": [
    "x86_64.to_csv(\"./dataset/malware_diec_x86_64_opcode_dataset.csv\", index=False)"
   ]
  }
 ],
 "metadata": {
  "kernelspec": {
   "display_name": "byteSequence",
   "language": "python",
   "name": "python3"
  },
  "language_info": {
   "codemirror_mode": {
    "name": "ipython",
    "version": 3
   },
   "file_extension": ".py",
   "mimetype": "text/x-python",
   "name": "python",
   "nbconvert_exporter": "python",
   "pygments_lexer": "ipython3",
   "version": "3.11.9"
  }
 },
 "nbformat": 4,
 "nbformat_minor": 2
}
